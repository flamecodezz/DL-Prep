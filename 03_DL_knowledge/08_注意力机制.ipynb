{
 "cells": [
  {
   "cell_type": "markdown",
   "metadata": {
    "collapsed": true
   },
   "source": [
    "# 注意力机制\n",
    "\n",
    "## 1. 简介\n",
    "定义：通过一定方式使得学习过程中仅仅关注部分信息的的手段都可以称作注意力机制，其可以让网络仅仅关注某些有用的信息，获取了关键信息就可以使用更加少的参数获得更加好的效果。\n",
    "\n",
    "**1.1 在 CV 中的应用方式**： 我们知道图像中的信息就是特征图，那么对信息筛选就是对特征图进行筛选，这里的筛选可以在空间层面和维度层面，筛选的手段就是进行加权。\n",
    "\n",
    "   1. **空间层面（Where ?）**：使用维度为(BS,1,H,W)的加权向量，对不同空间位置的信息进行筛选\n",
    "   2. **维度层面(What ?)**: 通常我们认为不同维度代表了不同卷积核的提取的特征，那么同一维度都是同一个特征提取器获得的，也就是输入特征图中所有有这个特征的位置。对不同维度的信息进行筛选就是采用维度为（BS，channels,1,1）的向量为每一特征图进行加权。\n",
    "\n",
    "**1.2 如何确定筛选权值**: 目前我们知道注意力机制是通过加权的方式在空间和维度层面对特征图进行筛选，那么怎么确定权值呢？\n",
    "权值代表哪些信息重要，哪些信息不太关键，那么怎么来决定呢？这里显然需要根据任务来决定，当使用哪些信息我们获得更好的最终结果，哪些信息就是更关键的信息。\n",
    "\n",
    "   **流程**：\n",
    "   1. 特征图生成权重：由于我们需要根据特征图判定重要性，那么我们建立一个以特征图为输入的浅层神经网络，其输出当作权值\n",
    "   2. 权重作用于特征图：上一步生成的权值通过 broadcast 加权到特征图上，得到加权特征图\n",
    "   3. 权重反馈：网络根据加权的特征图进行结果的预测，得到损失，进行反向传播，这里的损失就能让我们确定第一步生成的权重是否正确以及如何调整权重\n",
    "   4. 循环1-3步就能获得越来越好的权重。"
   ]
  },
  {
   "cell_type": "markdown",
   "metadata": {},
   "source": [
    "## 2. SEnet (Squeeze-excitation network)\n",
    "接下来我们来介绍一下基于 channel 维度进行注意力机制的 SEnet，这个[视频](https://www.bilibili.com/video/BV1SA41147uA?from=search&seid=16340509309705039646)讲解的比较清楚。\n",
    "\n",
    "![img](./Pics/SENET.png)\n",
    "\n",
    "SEnet的流程主要分为三个部分：\n",
    "1. 压缩：对上一步的特征图进行全局池化，获得包含有全局感受野的特征向量。\n",
    "2. 激励：我们将这个特征向量传入两层 FC 的浅层神经网络获得权值\n",
    "3. 乘积：将权值乘到之前的每个特征图上就获得有不同注意力特征图\n",
    "\n",
    "由于注意力机制是通过额外的神经网络进行支撑，因此我们可以将其加到任何的神经网络中，例如加到 Inception 和 Residual net的效果则如下图所示：\n",
    "![img](./Pics/senetres.png)\n"
   ]
  },
  {
   "cell_type": "markdown",
   "metadata": {},
   "source": [
    "## 3. SKNET, CBAM 等\n",
    "见 [SKnet](https://github.com/Captain1986/CaptainBlackboard/blob/master/D%230028-%E5%86%8D%E8%81%8ASENet%E7%9A%84%E5%AD%AA%E7%94%9F%E5%85%84%E5%BC%9FSKNet/D%230028.md) 和 [CBAM](https://zhuanlan.zhihu.com/p/106753815)"
   ]
  }
 ],
 "metadata": {
  "kernelspec": {
   "display_name": "Python 3",
   "language": "python",
   "name": "python3"
  },
  "language_info": {
   "codemirror_mode": {
    "name": "ipython",
    "version": 3
   },
   "file_extension": ".py",
   "mimetype": "text/x-python",
   "name": "python",
   "nbconvert_exporter": "python",
   "pygments_lexer": "ipython3",
   "version": "3.6.5"
  }
 },
 "nbformat": 4,
 "nbformat_minor": 1
}
