{
 "cells": [
  {
   "cell_type": "markdown",
   "metadata": {
    "collapsed": true,
    "pycharm": {
     "name": "#%% md\n"
    }
   },
   "source": [
    "#  机器学习知识总结\n",
    "李航机器学习整理+ [this repo](https://github.com/shiyutang/MachineLearning)\n",
    "\n"
   ]
  },
  {
   "cell_type": "markdown",
   "metadata": {},
   "source": [
    "## 1. 频率派和贝叶斯派\n",
    "参考shuhuai的[视频](https://www.bilibili.com/video/BV1aE411o7qd?p=2)\n",
    "假定输入模型参数 $\\theta$, 给定输入数据 X，有\n",
    "\n",
    "**频率派**：假定输入参数未知的常数，那么我们可以直接根据极大似然估计: $$\\theta_{MLE} = argmax_{\\theta}\\ log(p(x|\\theta))$$ 得到模型的参数估计，从而进一步给定新的输入数据判断该数据出现的可能性（预测）。\n",
    "\n",
    "由频率派，我们则衍生出：\n",
    "1. 建立模型\n",
    "2. 建立损失函数\n",
    "3. 优化损失函数\n",
    "\n",
    "这几个步骤，最终频率派的问题演化为一个模型参数估计的最优化问题\n",
    "\n",
    "**贝叶斯派**：假设输入参数为为未知的变量，该变量满足一个未知的分布，那么，为了进一步进行预测，我们需要把参数的分布估计出来，如果仅仅是求最可能地参数，即参数分布中地最大值对应参数，我们可以使用最大后验估计：$$\\theta_{MAP} = argmax_{\\theta}p(\\theta|X) = argmax_{\\theta}\\frac{p(X|\\theta)p(\\theta)}{p(X)} $$\n",
    "\n",
    "进一步地，如果需要求取整个参数分布并进行贝叶斯预测的话，我们需要基于后验分布进行积分的求取：（如下图中所示），\n",
    "\n",
    "贝叶斯派后需要衍生出概率图模型和利用 Monte Carlo 求取积分\n",
    "\n",
    "![img](./Pics/bayesian.png)\n",
    "\n"
   ]
  },
  {
   "cell_type": "markdown",
   "metadata": {},
   "source": [
    "## 聚类\n",
    "聚类属于无监督学习中的分支，常见的聚类方法有很多，我们可以将其分为连接派和聚集派，其代表了两种不同的聚类思想\n",
    "1. 聚集派：聚集派常用来分类常见的聚类问题，例如下图中，我们可以明显看到有不同 cluster 分布在空间的不同区域，而基于聚集或者说紧凑的聚类的思想就是去寻找一种方法将分布得最密集的数据聚集起来。\n",
    "![img](./Pics/cluster.png)\n",
    "\n",
    "    常见的方法有K-means聚类，混合高斯模型，层次聚类，均值漂移等算法，其中：\n",
    "    1. K-means： 使用距离最近的贪心准则对\n",
    "\n",
    "2. 连接派：\n",
    "![img](./Pics/cluster2.jpg)\n",
    "\n"
   ]
  }
 ],
 "metadata": {
  "kernelspec": {
   "display_name": "Python 3",
   "language": "python",
   "name": "python3"
  },
  "language_info": {
   "codemirror_mode": {
    "name": "ipython",
    "version": 3
   },
   "file_extension": ".py",
   "mimetype": "text/x-python",
   "name": "python",
   "nbconvert_exporter": "python",
   "pygments_lexer": "ipython3",
   "version": "3.6.5"
  }
 },
 "nbformat": 4,
 "nbformat_minor": 1
}