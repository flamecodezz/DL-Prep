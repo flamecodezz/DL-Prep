{
 "cells": [
  {
   "cell_type": "markdown",
   "metadata": {
    "collapsed": true,
    "pycharm": {
     "name": "#%% md\n"
    }
   },
   "source": [
    "# 深度学习框架\n",
    "总结深度学习框架：pytorch，tensorflow等中的语法和机制\n",
    "\n",
    "根据[深度学习框架pytorch 入门与实践](https://github.com/chenyuntc/pytorch-book) 的结构总结+[网页](https://pytorch.apachecn.org/docs/1.2/intermediate/model_parallel_tutorial.html)\n",
    "\n",
    "\n"
   ]
  }
 ],
 "metadata": {
  "kernelspec": {
   "display_name": "Python 3",
   "language": "python",
   "name": "python3"
  },
  "language_info": {
   "codemirror_mode": {
    "name": "ipython",
    "version": 3
   },
   "file_extension": ".py",
   "mimetype": "text/x-python",
   "name": "python",
   "nbconvert_exporter": "python",
   "pygments_lexer": "ipython3",
   "version": "3.6.5"
  }
 },
 "nbformat": 4,
 "nbformat_minor": 1
}
